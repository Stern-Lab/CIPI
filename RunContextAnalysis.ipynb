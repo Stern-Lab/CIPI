{
 "cells": [
  {
   "cell_type": "code",
   "execution_count": 2,
   "metadata": {},
   "outputs": [
    {
     "ename": "ModuleNotFoundError",
     "evalue": "No module named 'evoModel'",
     "output_type": "error",
     "traceback": [
      "\u001b[0;31m---------------------------------------------------------------------------\u001b[0m",
      "\u001b[0;31mModuleNotFoundError\u001b[0m                       Traceback (most recent call last)",
      "\u001b[0;32m<ipython-input-2-8bc2de443d1d>\u001b[0m in \u001b[0;36m<module>\u001b[0;34m()\u001b[0m\n\u001b[1;32m      1\u001b[0m \u001b[0;31m# load modules\u001b[0m\u001b[0;34m\u001b[0m\u001b[0;34m\u001b[0m\u001b[0m\n\u001b[0;32m----> 2\u001b[0;31m \u001b[0;32mimport\u001b[0m \u001b[0mevoModel\u001b[0m\u001b[0;34m\u001b[0m\u001b[0m\n\u001b[0m\u001b[1;32m      3\u001b[0m \u001b[0;32mimport\u001b[0m \u001b[0msimulations\u001b[0m\u001b[0;34m\u001b[0m\u001b[0m\n\u001b[1;32m      4\u001b[0m \u001b[0;32mfrom\u001b[0m \u001b[0msimulations\u001b[0m \u001b[0;32mimport\u001b[0m \u001b[0mNUCS\u001b[0m\u001b[0;34m\u001b[0m\u001b[0m\n\u001b[1;32m      5\u001b[0m \u001b[0;32mimport\u001b[0m \u001b[0msys\u001b[0m\u001b[0;34m\u001b[0m\u001b[0m\n",
      "\u001b[0;31mModuleNotFoundError\u001b[0m: No module named 'evoModel'"
     ]
    }
   ],
   "source": [
    "# load modules\n",
    "import evoModel\n",
    "import simulations\n",
    "from simulations import NUCS\n",
    "import sys\n",
    "import time\n",
    "import pandas as pd\n",
    "import numpy as np\n",
    "import numpy.random as nr\n",
    "from featureExtraction import featureExtraction\n",
    "global NUCS\n",
    "NUCS=['A','C','G','T']\n",
    "global NUCSNOC\n",
    "NUCSNOC=['A','G','T']\n",
    "import glob\n",
    "import os\n",
    "from GammaPriorTest import fullAnalysis\n",
    "from tqdm import tqdm"
   ]
  },
  {
   "cell_type": "markdown",
   "metadata": {},
   "source": [
    "# Run context analysis"
   ]
  },
  {
   "cell_type": "code",
   "execution_count": 5,
   "metadata": {},
   "outputs": [],
   "source": [
    "### parameters:\n",
    "# running real data:\n",
    "# ----reference - fasta file reference\n",
    "# ----frequency file - input frequency file, as formatted in the example; \n",
    "# ----output - an output csv file path to save the motifs regression tables\n",
    "\n",
    "# simulating data:\n",
    "# ----reference - fasta file reference\n",
    "# ----frequency file - input frequency file path in which the simulated frequenices will be saved; \n",
    "# ----output - an output csv file path to save the motifs regression table\n",
    "# ----motif - the requested motif\n"
   ]
  },
  {
   "cell_type": "markdown",
   "metadata": {},
   "source": [
    "## Simulate frequencies\n",
    "Run this cell if you are interested in simulating data frequencies on a given motif\\motifs.\n"
   ]
  },
  {
   "cell_type": "code",
   "execution_count": 4,
   "metadata": {},
   "outputs": [
    {
     "ename": "NameError",
     "evalue": "name 'evoModel' is not defined",
     "output_type": "error",
     "traceback": [
      "\u001b[0;31m---------------------------------------------------------------------------\u001b[0m",
      "\u001b[0;31mNameError\u001b[0m                                 Traceback (most recent call last)",
      "\u001b[0;32m<ipython-input-4-c34b5f3fcb61>\u001b[0m in \u001b[0;36m<module>\u001b[0;34m()\u001b[0m\n\u001b[1;32m      6\u001b[0m \u001b[0mfreq\u001b[0m \u001b[0;34m=\u001b[0m \u001b[0;34mr'example/simulated.freq'\u001b[0m\u001b[0;34m\u001b[0m\u001b[0m\n\u001b[1;32m      7\u001b[0m \u001b[0;34m\u001b[0m\u001b[0m\n\u001b[0;32m----> 8\u001b[0;31m \u001b[0mmod\u001b[0m\u001b[0;34m=\u001b[0m\u001b[0mevoModel\u001b[0m\u001b[0;34m.\u001b[0m\u001b[0mevoModel\u001b[0m\u001b[0;34m(\u001b[0m\u001b[0;34m'JC'\u001b[0m\u001b[0;34m,\u001b[0m\u001b[0mrateParam\u001b[0m\u001b[0;34m=\u001b[0m\u001b[0;34m{\u001b[0m\u001b[0;34m'mu'\u001b[0m\u001b[0;34m:\u001b[0m\u001b[0;36m5\u001b[0m\u001b[0;34m*\u001b[0m\u001b[0;36m10\u001b[0m\u001b[0;34m**\u001b[0m\u001b[0;34m-\u001b[0m\u001b[0;36m5\u001b[0m\u001b[0;34m}\u001b[0m\u001b[0;34m)\u001b[0m\u001b[0;34m\u001b[0m\u001b[0m\n\u001b[0m\u001b[1;32m      9\u001b[0m \u001b[0msim\u001b[0m\u001b[0;34m=\u001b[0m\u001b[0msimulations\u001b[0m\u001b[0;34m.\u001b[0m\u001b[0mEvolustionSimulations\u001b[0m\u001b[0;34m(\u001b[0m\u001b[0mmod\u001b[0m\u001b[0;34m,\u001b[0m\u001b[0mtime\u001b[0m\u001b[0;34m=\u001b[0m\u001b[0;36m15\u001b[0m\u001b[0;34m,\u001b[0m\u001b[0msampleNum\u001b[0m\u001b[0;34m=\u001b[0m\u001b[0;36m1000\u001b[0m\u001b[0;34m,\u001b[0m\u001b[0mchroLen\u001b[0m\u001b[0;34m=\u001b[0m\u001b[0;36m800\u001b[0m\u001b[0;34m,\u001b[0m \u001b[0mnon_neutral\u001b[0m\u001b[0;34m=\u001b[0m\u001b[0mnon_neutral_selection\u001b[0m\u001b[0;34m)\u001b[0m\u001b[0;34m\u001b[0m\u001b[0m\n\u001b[1;32m     10\u001b[0m \u001b[0msim\u001b[0m\u001b[0;34m.\u001b[0m\u001b[0mparseChromosome\u001b[0m\u001b[0;34m(\u001b[0m\u001b[0mreference\u001b[0m\u001b[0;34m)\u001b[0m\u001b[0;34m\u001b[0m\u001b[0m\n",
      "\u001b[0;31mNameError\u001b[0m: name 'evoModel' is not defined"
     ]
    }
   ],
   "source": [
    "# simulate frequencies\n",
    "\n",
    "reference = r'example/reference.fasta'\n",
    "motif = ([-1,-1,1,2,-1],3)    # the CpG motif for k=5. XXCGX --> XXTGX \n",
    "                              # mapping: 0:A,1:C,2:G,3:T,-1:X. motif[0] represent the actual motif and motif[1] represent the mutation\n",
    "beta = 3   # random beta - this is a strong beta coefficient, \n",
    "freq = r'example/simulated.freq'\n",
    "\n",
    "mod=evoModel.evoModel('JC',rateParam={'mu':5*10**-5})\n",
    "sim=simulations.EvolustionSimulations(mod,time=15,sampleNum=1000,chroLen=800, non_neutral=non_neutral_selection)\n",
    "sim.parseChromosome(reference)\n",
    "sim.addMotif(motif,beta)   #number of motifs can be added\n",
    "sim.initializeProb()\n",
    "tic=time.time()\n",
    "# create the moran matrix and save the simulated frequencies\n",
    "moranMatrix=sim.moranModelByPosition()\n",
    "sim.toFreqsFile(moranMatrix, freq)"
   ]
  },
  {
   "cell_type": "markdown",
   "metadata": {},
   "source": [
    "## Run final analysis"
   ]
  },
  {
   "cell_type": "code",
   "execution_count": 6,
   "metadata": {},
   "outputs": [],
   "source": [
    "# if simulated use the saved freq file example/simulated.freq\n",
    "# other wise use real data frequency file"
   ]
  },
  {
   "cell_type": "code",
   "execution_count": null,
   "metadata": {},
   "outputs": [],
   "source": [
    "# define parameters\n",
    "coding_regions = (748,7371)   # coding regions of reference file genome\n",
    "k = 5\n",
    "output = r'example/output.csv'\n",
    "\n",
    "# create regression tables\n",
    "fc=featureExtraction(freq,[coding_regions],k) # codind regions and k-mers length\n",
    "fc.createRegressionTable()\n",
    "fc.regTable.to_csv(output)\n",
    "\n",
    "# run full analysis\n",
    "global MT\n",
    "MT=['AG','CT','GA','TC']\n",
    "for mt in MT:\n",
    "    fullAnalysis(output, mt)"
   ]
  }
 ],
 "metadata": {
  "kernelspec": {
   "display_name": "Python 3",
   "language": "python",
   "name": "python3"
  },
  "language_info": {
   "codemirror_mode": {
    "name": "ipython",
    "version": 3
   },
   "file_extension": ".py",
   "mimetype": "text/x-python",
   "name": "python",
   "nbconvert_exporter": "python",
   "pygments_lexer": "ipython3",
   "version": "3.6.6"
  }
 },
 "nbformat": 4,
 "nbformat_minor": 2
}
