{
 "cells": [
  {
   "cell_type": "code",
   "execution_count": 5,
   "metadata": {},
   "outputs": [],
   "source": [
    "# load modules\n",
    "import evoModel\n",
    "import simulations\n",
    "from simulations import NUCS\n",
    "import sys\n",
    "import time\n",
    "import pandas as pd\n",
    "import numpy as np\n",
    "import numpy.random as nr\n",
    "from featureExtraction import featureExtraction\n",
    "global NUCS\n",
    "NUCS=['A','C','G','T']\n",
    "global NUCSNOC\n",
    "NUCSNOC=['A','G','T']\n",
    "import glob\n",
    "import os\n",
    "from GammaPriorTest import fullAnalysis\n",
    "from tqdm import tqdm"
   ]
  },
  {
   "cell_type": "markdown",
   "metadata": {},
   "source": [
    "# Run context analysis"
   ]
  },
  {
   "cell_type": "code",
   "execution_count": 5,
   "metadata": {},
   "outputs": [],
   "source": [
    "### parameters:\n",
    "# running real data:\n",
    "# ----reference - fasta file reference\n",
    "# ----frequency file - input frequency file, as formatted in the example; \n",
    "# ----output - an output csv file path to save the motifs regression tables\n",
    "\n",
    "# simulating data:\n",
    "# ----reference - fasta file reference\n",
    "# ----frequency file - input frequency file path in which the simulated frequenices will be saved; \n",
    "# ----output - an output csv file path to save the motifs regression table\n",
    "# ----motif - the requested motif\n"
   ]
  },
  {
   "cell_type": "markdown",
   "metadata": {},
   "source": [
    "## Simulate frequencies\n",
    "Run this cell if you are interested in simulating data frequencies on a given motif\\motifs.\n"
   ]
  },
  {
   "cell_type": "code",
   "execution_count": 2,
   "metadata": {},
   "outputs": [],
   "source": [
    "# simulate frequencies\n",
    "\n",
    "reference = r'example/reference.fasta'\n",
    "motif = ([-1,-1,1,2,-1],3)    # the CpG motif for k=5. XXCGX --> XXTGX \n",
    "                              # mapping: 0:A,1:C,2:G,3:T,-1:X. motif[0] represent the actual motif and motif[1] represent the mutation\n",
    "beta = 3   # random beta - this is a strong beta coefficient, \n",
    "freq = r'example/simulated.freq'\n",
    "\n",
    "mod=evoModel.evoModel('JC',rateParam={'mu':5*10**-5})\n",
    "sim=simulations.EvolustionSimulations(mod,time=15,sampleNum=1000,chroLen=800, non_neutral=non_neutral_selection)\n",
    "sim.parseChromosome(reference)\n",
    "sim.addMotif(motif,beta)   #number of motifs can be added\n",
    "sim.initializeProb()\n",
    "tic=time.time()\n",
    "# create the moran matrix and save the simulated frequencies\n",
    "moranMatrix=sim.moranModelByPosition()\n",
    "sim.toFreqsFile(moranMatrix, freq)"
   ]
  },
  {
   "cell_type": "markdown",
   "metadata": {},
   "source": [
    "## Run final analysis"
   ]
  },
  {
   "cell_type": "code",
   "execution_count": 6,
   "metadata": {},
   "outputs": [],
   "source": [
    "# if simulated use the saved freq file example/simulated.freq\n",
    "# other wise use real data frequency file"
   ]
  },
  {
   "cell_type": "code",
   "execution_count": null,
   "metadata": {},
   "outputs": [],
   "source": [
    "# define parameters\n",
    "coding_regions = (748,7371)   # coding regions of reference file genome\n",
    "k = 5\n",
    "output = r'example/output.csv'\n",
    "\n",
    "# create regression tables\n",
    "fc=featureExtraction(freq,[coding_regions],k) # codind regions and k-mers length\n",
    "fc.createRegressionTable()\n",
    "fc.regTable.to_csv(output)\n",
    "\n",
    "# run full analysis\n",
    "global MT\n",
    "MT=['AG','CT','GA','TC']\n",
    "for mt in MT:\n",
    "    fullAnalysis(output, mt)"
   ]
  }
 ],
 "metadata": {
  "kernelspec": {
   "display_name": "Python 2",
   "language": "python",
   "name": "python2"
  },
  "language_info": {
   "codemirror_mode": {
    "name": "ipython",
    "version": 2
   },
   "file_extension": ".py",
   "mimetype": "text/x-python",
   "name": "python",
   "nbconvert_exporter": "python",
   "pygments_lexer": "ipython2",
   "version": "2.7.15"
  }
 },
 "nbformat": 4,
 "nbformat_minor": 2
}
